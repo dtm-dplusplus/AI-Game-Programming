{
 "cells": [
  {
   "cell_type": "markdown",
   "metadata": {},
   "source": [
    "# Task B1\n",
    "As a newly graduated programmer and you are new to Generative AI, your team leader gives you an opportunity to familiarise yourself with a simple generative model to generate simple images before moving to more advanced and realistic models. Your team leader asks you to start by using CLIP, which is a model built by OpenAI for generating images from text (https://openai.com/research/clip), or an equivalent model of your choice, to write a Python program to generate simple images from text and conduct some research and experiments to enhance your understanding in Generative AI. "
   ]
  },
  {
   "cell_type": "markdown",
   "metadata": {},
   "source": [
    "## Task B1.1\n",
    "Write a Python program to implement CLIP model, or an equivalent model, to generate an image sized 224x224 pixels from a text prompt.\n"
   ]
  },
  {
   "cell_type": "code",
   "execution_count": null,
   "metadata": {},
   "outputs": [],
   "source": [
    "# Libraries & Data - RUN FIRST - Code below is dependent on these libraries and variables"
   ]
  },
  {
   "cell_type": "markdown",
   "metadata": {},
   "source": [
    "## Task B1.2\n",
    "Conduct a literature survey on how to improve the generated images in terms of the loss functions, optimisers and regularisation and other necessary hyperparameters."
   ]
  },
  {
   "cell_type": "markdown",
   "metadata": {},
   "source": [
    "## Task B1.3\n",
    "Use the findings in Task B1.2 to improve the generated image quality."
   ]
  },
  {
   "cell_type": "markdown",
   "metadata": {},
   "source": [
    "## Task B1.4\n",
    "Evaluate the performance of your program. To be consistent and for a fair comparison, you must use \"A cat face\" as your text prompt to generate images."
   ]
  }
 ],
 "metadata": {
  "kernelspec": {
   "display_name": "base",
   "language": "python",
   "name": "python3"
  },
  "language_info": {
   "codemirror_mode": {
    "name": "ipython",
    "version": 3
   },
   "file_extension": ".py",
   "mimetype": "text/x-python",
   "name": "python",
   "nbconvert_exporter": "python",
   "pygments_lexer": "ipython3",
   "version": "3.11.5"
  }
 },
 "nbformat": 4,
 "nbformat_minor": 2
}
