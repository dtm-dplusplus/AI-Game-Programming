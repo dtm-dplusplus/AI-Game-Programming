{
 "cells": [
  {
   "cell_type": "code",
   "execution_count": null,
   "metadata": {},
   "outputs": [],
   "source": [
    "# Libraries & Data - RUN FIRST - Code below is dependent on these libraries and variables\n",
    "!pip install openai pillow requests\n",
    "\n",
    "from openai import OpenAI\n",
    "import requests\n",
    "from PIL import Image\n",
    "from PIL import Image\n",
    "import requests"
   ]
  },
  {
   "cell_type": "code",
   "execution_count": null,
   "metadata": {},
   "outputs": [],
   "source": [
    "# Implementation using OpenAI's DALL-E 2 model - Standard Quality\n",
    "\n",
    "# Set OpenAI API key\n",
    "apiKey = \"Replace with your OpenAI API key\"\n",
    "client = OpenAI(api_key=apiKey)\n",
    "\n",
    "# Set Text Prompt\n",
    "textPrompt = \"A cat face\"\n",
    "\n",
    "# Generate image with CLIP\n",
    "response = client.images.generate(model=\"dall-e-2\",\n",
    "  prompt=textPrompt,\n",
    "  size=\"256x256\",\n",
    "  quality=\"standard\",\n",
    "  n=1,)\n",
    "\n",
    "# Get the URL of the generated image\n",
    "image_url = response.data[0].url\n",
    "\n",
    "# Download the generated image\n",
    "image_data = requests.get(image_url).content\n",
    "\n",
    "# Save the image\n",
    "with open(\"generated_image.png\", \"wb\") as img_file:\n",
    "    img_file.write(image_data)\n",
    "\n",
    "# Display the image\n",
    "generated_image = Image.open(\"generated_image.png\")\n",
    "generated_image.show()"
   ]
  },
  {
   "cell_type": "code",
   "execution_count": null,
   "metadata": {},
   "outputs": [],
   "source": [
    "# Implementation using OpenAI's DALL-E 2 model - HD Quality\n",
    "\n",
    "# Set OpenAI API key\n",
    "apiKey = \"Replace with your OpenAI API key\"\n",
    "client = OpenAI(api_key=apiKey)\n",
    "\n",
    "# Set Text Prompt\n",
    "textPrompt = \"A cat face\"\n",
    "\n",
    "# Generate image with CLIP\n",
    "response = client.images.generate(model=\"dall-e-2\",\n",
    "  prompt=textPrompt,\n",
    "  size=\"256x256\",\n",
    "  quality=\"hd\",\n",
    "  n=1,)\n",
    "\n",
    "# Get the URL of the generated image\n",
    "image_url = response.data[0].url\n",
    "\n",
    "# Download the generated image\n",
    "image_data = requests.get(image_url).content\n",
    "\n",
    "# Save the image\n",
    "with open(\"generated_image.png\", \"wb\") as img_file:\n",
    "    img_file.write(image_data)\n",
    "\n",
    "# Display the image\n",
    "generated_image = Image.open(\"generated_image.png\")\n",
    "generated_image.show()"
   ]
  }
 ],
 "metadata": {
  "kernelspec": {
   "display_name": "base",
   "language": "python",
   "name": "python3"
  },
  "language_info": {
   "codemirror_mode": {
    "name": "ipython",
    "version": 3
   },
   "file_extension": ".py",
   "mimetype": "text/x-python",
   "name": "python",
   "nbconvert_exporter": "python",
   "pygments_lexer": "ipython3",
   "version": "3.11.5"
  }
 },
 "nbformat": 4,
 "nbformat_minor": 2
}
